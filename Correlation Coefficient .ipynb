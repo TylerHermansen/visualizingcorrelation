{
 "cells": [
  {
   "cell_type": "code",
   "execution_count": 1,
   "id": "df627cdb",
   "metadata": {},
   "outputs": [],
   "source": [
    "import pandas as pd\n",
    "import numpy as np\n",
    "import matplotlib.pyplot as plt\n",
    "\n",
    "from scipy.stats import pearsonr, spearmanr"
   ]
  },
  {
   "cell_type": "code",
   "execution_count": 2,
   "id": "dec8558f",
   "metadata": {},
   "outputs": [
    {
     "name": "stdout",
     "output_type": "stream",
     "text": [
      "Requirement already satisfied: seaborn in /Users/tylerhermansen/opt/anaconda3/envs/corrcoe/lib/python3.9/site-packages (0.11.2)\n",
      "Requirement already satisfied: matplotlib>=2.2 in /Users/tylerhermansen/opt/anaconda3/envs/corrcoe/lib/python3.9/site-packages (from seaborn) (3.5.1)\n",
      "Requirement already satisfied: scipy>=1.0 in /Users/tylerhermansen/opt/anaconda3/envs/corrcoe/lib/python3.9/site-packages (from seaborn) (1.7.3)\n",
      "Requirement already satisfied: pandas>=0.23 in /Users/tylerhermansen/opt/anaconda3/envs/corrcoe/lib/python3.9/site-packages (from seaborn) (1.4.3)\n",
      "Requirement already satisfied: numpy>=1.15 in /Users/tylerhermansen/opt/anaconda3/envs/corrcoe/lib/python3.9/site-packages (from seaborn) (1.22.3)\n",
      "Requirement already satisfied: fonttools>=4.22.0 in /Users/tylerhermansen/opt/anaconda3/envs/corrcoe/lib/python3.9/site-packages (from matplotlib>=2.2->seaborn) (4.25.0)\n",
      "Requirement already satisfied: packaging>=20.0 in /Users/tylerhermansen/opt/anaconda3/envs/corrcoe/lib/python3.9/site-packages (from matplotlib>=2.2->seaborn) (21.3)\n",
      "Requirement already satisfied: pyparsing>=2.2.1 in /Users/tylerhermansen/opt/anaconda3/envs/corrcoe/lib/python3.9/site-packages (from matplotlib>=2.2->seaborn) (3.0.4)\n",
      "Requirement already satisfied: cycler>=0.10 in /Users/tylerhermansen/opt/anaconda3/envs/corrcoe/lib/python3.9/site-packages (from matplotlib>=2.2->seaborn) (0.11.0)\n",
      "Requirement already satisfied: pillow>=6.2.0 in /Users/tylerhermansen/opt/anaconda3/envs/corrcoe/lib/python3.9/site-packages (from matplotlib>=2.2->seaborn) (9.2.0)\n",
      "Requirement already satisfied: python-dateutil>=2.7 in /Users/tylerhermansen/opt/anaconda3/envs/corrcoe/lib/python3.9/site-packages (from matplotlib>=2.2->seaborn) (2.8.2)\n",
      "Requirement already satisfied: kiwisolver>=1.0.1 in /Users/tylerhermansen/opt/anaconda3/envs/corrcoe/lib/python3.9/site-packages (from matplotlib>=2.2->seaborn) (1.4.2)\n",
      "Requirement already satisfied: pytz>=2020.1 in /Users/tylerhermansen/opt/anaconda3/envs/corrcoe/lib/python3.9/site-packages (from pandas>=0.23->seaborn) (2022.1)\n",
      "Requirement already satisfied: six>=1.5 in /Users/tylerhermansen/opt/anaconda3/envs/corrcoe/lib/python3.9/site-packages (from python-dateutil>=2.7->matplotlib>=2.2->seaborn) (1.16.0)\n"
     ]
    }
   ],
   "source": [
    "!pip install seaborn"
   ]
  },
  {
   "cell_type": "code",
   "execution_count": 3,
   "id": "0edc8730",
   "metadata": {},
   "outputs": [],
   "source": [
    "import seaborn as sns"
   ]
  },
  {
   "cell_type": "code",
   "execution_count": 4,
   "id": "62392082",
   "metadata": {},
   "outputs": [],
   "source": [
    "ab = pd.read_csv('Absenteeism_at_work.tsv', sep='\\t')"
   ]
  },
  {
   "cell_type": "code",
   "execution_count": 5,
   "id": "ff391f0b",
   "metadata": {},
   "outputs": [
    {
     "data": {
      "text/html": [
       "<div>\n",
       "<style scoped>\n",
       "    .dataframe tbody tr th:only-of-type {\n",
       "        vertical-align: middle;\n",
       "    }\n",
       "\n",
       "    .dataframe tbody tr th {\n",
       "        vertical-align: top;\n",
       "    }\n",
       "\n",
       "    .dataframe thead th {\n",
       "        text-align: right;\n",
       "    }\n",
       "</style>\n",
       "<table border=\"1\" class=\"dataframe\">\n",
       "  <thead>\n",
       "    <tr style=\"text-align: right;\">\n",
       "      <th></th>\n",
       "      <th>ID</th>\n",
       "      <th>Reason for absence</th>\n",
       "      <th>Month of absence</th>\n",
       "      <th>Day of the week</th>\n",
       "      <th>Seasons</th>\n",
       "      <th>Transportation expense</th>\n",
       "      <th>Distance from Residence to Work</th>\n",
       "      <th>Service time</th>\n",
       "      <th>Age</th>\n",
       "      <th>Work load Average/day</th>\n",
       "      <th>...</th>\n",
       "      <th>Disciplinary failure</th>\n",
       "      <th>Education</th>\n",
       "      <th>Son</th>\n",
       "      <th>Social drinker</th>\n",
       "      <th>Social smoker</th>\n",
       "      <th>Pet</th>\n",
       "      <th>Weight</th>\n",
       "      <th>Height</th>\n",
       "      <th>Body mass index</th>\n",
       "      <th>Absenteeism time in hours</th>\n",
       "    </tr>\n",
       "  </thead>\n",
       "  <tbody>\n",
       "    <tr>\n",
       "      <th>0</th>\n",
       "      <td>11</td>\n",
       "      <td>26</td>\n",
       "      <td>7</td>\n",
       "      <td>3</td>\n",
       "      <td>1</td>\n",
       "      <td>289</td>\n",
       "      <td>36</td>\n",
       "      <td>13</td>\n",
       "      <td>33</td>\n",
       "      <td>239.554</td>\n",
       "      <td>...</td>\n",
       "      <td>0</td>\n",
       "      <td>1</td>\n",
       "      <td>2</td>\n",
       "      <td>1</td>\n",
       "      <td>0</td>\n",
       "      <td>1</td>\n",
       "      <td>90</td>\n",
       "      <td>172</td>\n",
       "      <td>30</td>\n",
       "      <td>4</td>\n",
       "    </tr>\n",
       "    <tr>\n",
       "      <th>1</th>\n",
       "      <td>36</td>\n",
       "      <td>0</td>\n",
       "      <td>7</td>\n",
       "      <td>3</td>\n",
       "      <td>1</td>\n",
       "      <td>118</td>\n",
       "      <td>13</td>\n",
       "      <td>18</td>\n",
       "      <td>50</td>\n",
       "      <td>239.554</td>\n",
       "      <td>...</td>\n",
       "      <td>1</td>\n",
       "      <td>1</td>\n",
       "      <td>1</td>\n",
       "      <td>1</td>\n",
       "      <td>0</td>\n",
       "      <td>0</td>\n",
       "      <td>98</td>\n",
       "      <td>178</td>\n",
       "      <td>31</td>\n",
       "      <td>0</td>\n",
       "    </tr>\n",
       "    <tr>\n",
       "      <th>2</th>\n",
       "      <td>3</td>\n",
       "      <td>23</td>\n",
       "      <td>7</td>\n",
       "      <td>4</td>\n",
       "      <td>1</td>\n",
       "      <td>179</td>\n",
       "      <td>51</td>\n",
       "      <td>18</td>\n",
       "      <td>38</td>\n",
       "      <td>239.554</td>\n",
       "      <td>...</td>\n",
       "      <td>0</td>\n",
       "      <td>1</td>\n",
       "      <td>0</td>\n",
       "      <td>1</td>\n",
       "      <td>0</td>\n",
       "      <td>0</td>\n",
       "      <td>89</td>\n",
       "      <td>170</td>\n",
       "      <td>31</td>\n",
       "      <td>2</td>\n",
       "    </tr>\n",
       "    <tr>\n",
       "      <th>3</th>\n",
       "      <td>7</td>\n",
       "      <td>7</td>\n",
       "      <td>7</td>\n",
       "      <td>5</td>\n",
       "      <td>1</td>\n",
       "      <td>279</td>\n",
       "      <td>5</td>\n",
       "      <td>14</td>\n",
       "      <td>39</td>\n",
       "      <td>239.554</td>\n",
       "      <td>...</td>\n",
       "      <td>0</td>\n",
       "      <td>1</td>\n",
       "      <td>2</td>\n",
       "      <td>1</td>\n",
       "      <td>1</td>\n",
       "      <td>0</td>\n",
       "      <td>68</td>\n",
       "      <td>168</td>\n",
       "      <td>24</td>\n",
       "      <td>4</td>\n",
       "    </tr>\n",
       "    <tr>\n",
       "      <th>4</th>\n",
       "      <td>11</td>\n",
       "      <td>23</td>\n",
       "      <td>7</td>\n",
       "      <td>5</td>\n",
       "      <td>1</td>\n",
       "      <td>289</td>\n",
       "      <td>36</td>\n",
       "      <td>13</td>\n",
       "      <td>33</td>\n",
       "      <td>239.554</td>\n",
       "      <td>...</td>\n",
       "      <td>0</td>\n",
       "      <td>1</td>\n",
       "      <td>2</td>\n",
       "      <td>1</td>\n",
       "      <td>0</td>\n",
       "      <td>1</td>\n",
       "      <td>90</td>\n",
       "      <td>172</td>\n",
       "      <td>30</td>\n",
       "      <td>2</td>\n",
       "    </tr>\n",
       "    <tr>\n",
       "      <th>...</th>\n",
       "      <td>...</td>\n",
       "      <td>...</td>\n",
       "      <td>...</td>\n",
       "      <td>...</td>\n",
       "      <td>...</td>\n",
       "      <td>...</td>\n",
       "      <td>...</td>\n",
       "      <td>...</td>\n",
       "      <td>...</td>\n",
       "      <td>...</td>\n",
       "      <td>...</td>\n",
       "      <td>...</td>\n",
       "      <td>...</td>\n",
       "      <td>...</td>\n",
       "      <td>...</td>\n",
       "      <td>...</td>\n",
       "      <td>...</td>\n",
       "      <td>...</td>\n",
       "      <td>...</td>\n",
       "      <td>...</td>\n",
       "      <td>...</td>\n",
       "    </tr>\n",
       "    <tr>\n",
       "      <th>735</th>\n",
       "      <td>11</td>\n",
       "      <td>14</td>\n",
       "      <td>7</td>\n",
       "      <td>3</td>\n",
       "      <td>1</td>\n",
       "      <td>289</td>\n",
       "      <td>36</td>\n",
       "      <td>13</td>\n",
       "      <td>33</td>\n",
       "      <td>264.604</td>\n",
       "      <td>...</td>\n",
       "      <td>0</td>\n",
       "      <td>1</td>\n",
       "      <td>2</td>\n",
       "      <td>1</td>\n",
       "      <td>0</td>\n",
       "      <td>1</td>\n",
       "      <td>90</td>\n",
       "      <td>172</td>\n",
       "      <td>30</td>\n",
       "      <td>8</td>\n",
       "    </tr>\n",
       "    <tr>\n",
       "      <th>736</th>\n",
       "      <td>1</td>\n",
       "      <td>11</td>\n",
       "      <td>7</td>\n",
       "      <td>3</td>\n",
       "      <td>1</td>\n",
       "      <td>235</td>\n",
       "      <td>11</td>\n",
       "      <td>14</td>\n",
       "      <td>37</td>\n",
       "      <td>264.604</td>\n",
       "      <td>...</td>\n",
       "      <td>0</td>\n",
       "      <td>3</td>\n",
       "      <td>1</td>\n",
       "      <td>0</td>\n",
       "      <td>0</td>\n",
       "      <td>1</td>\n",
       "      <td>88</td>\n",
       "      <td>172</td>\n",
       "      <td>29</td>\n",
       "      <td>4</td>\n",
       "    </tr>\n",
       "    <tr>\n",
       "      <th>737</th>\n",
       "      <td>4</td>\n",
       "      <td>0</td>\n",
       "      <td>0</td>\n",
       "      <td>3</td>\n",
       "      <td>1</td>\n",
       "      <td>118</td>\n",
       "      <td>14</td>\n",
       "      <td>13</td>\n",
       "      <td>40</td>\n",
       "      <td>271.219</td>\n",
       "      <td>...</td>\n",
       "      <td>0</td>\n",
       "      <td>1</td>\n",
       "      <td>1</td>\n",
       "      <td>1</td>\n",
       "      <td>0</td>\n",
       "      <td>8</td>\n",
       "      <td>98</td>\n",
       "      <td>170</td>\n",
       "      <td>34</td>\n",
       "      <td>0</td>\n",
       "    </tr>\n",
       "    <tr>\n",
       "      <th>738</th>\n",
       "      <td>8</td>\n",
       "      <td>0</td>\n",
       "      <td>0</td>\n",
       "      <td>4</td>\n",
       "      <td>2</td>\n",
       "      <td>231</td>\n",
       "      <td>35</td>\n",
       "      <td>14</td>\n",
       "      <td>39</td>\n",
       "      <td>271.219</td>\n",
       "      <td>...</td>\n",
       "      <td>0</td>\n",
       "      <td>1</td>\n",
       "      <td>2</td>\n",
       "      <td>1</td>\n",
       "      <td>0</td>\n",
       "      <td>2</td>\n",
       "      <td>100</td>\n",
       "      <td>170</td>\n",
       "      <td>35</td>\n",
       "      <td>0</td>\n",
       "    </tr>\n",
       "    <tr>\n",
       "      <th>739</th>\n",
       "      <td>35</td>\n",
       "      <td>0</td>\n",
       "      <td>0</td>\n",
       "      <td>6</td>\n",
       "      <td>3</td>\n",
       "      <td>179</td>\n",
       "      <td>45</td>\n",
       "      <td>14</td>\n",
       "      <td>53</td>\n",
       "      <td>271.219</td>\n",
       "      <td>...</td>\n",
       "      <td>0</td>\n",
       "      <td>1</td>\n",
       "      <td>1</td>\n",
       "      <td>0</td>\n",
       "      <td>0</td>\n",
       "      <td>1</td>\n",
       "      <td>77</td>\n",
       "      <td>175</td>\n",
       "      <td>25</td>\n",
       "      <td>0</td>\n",
       "    </tr>\n",
       "  </tbody>\n",
       "</table>\n",
       "<p>740 rows × 21 columns</p>\n",
       "</div>"
      ],
      "text/plain": [
       "     ID  Reason for absence  Month of absence  Day of the week  Seasons  \\\n",
       "0    11                  26                 7                3        1   \n",
       "1    36                   0                 7                3        1   \n",
       "2     3                  23                 7                4        1   \n",
       "3     7                   7                 7                5        1   \n",
       "4    11                  23                 7                5        1   \n",
       "..   ..                 ...               ...              ...      ...   \n",
       "735  11                  14                 7                3        1   \n",
       "736   1                  11                 7                3        1   \n",
       "737   4                   0                 0                3        1   \n",
       "738   8                   0                 0                4        2   \n",
       "739  35                   0                 0                6        3   \n",
       "\n",
       "     Transportation expense  Distance from Residence to Work  Service time  \\\n",
       "0                       289                               36            13   \n",
       "1                       118                               13            18   \n",
       "2                       179                               51            18   \n",
       "3                       279                                5            14   \n",
       "4                       289                               36            13   \n",
       "..                      ...                              ...           ...   \n",
       "735                     289                               36            13   \n",
       "736                     235                               11            14   \n",
       "737                     118                               14            13   \n",
       "738                     231                               35            14   \n",
       "739                     179                               45            14   \n",
       "\n",
       "     Age  Work load Average/day   ...  Disciplinary failure  Education  Son  \\\n",
       "0     33                 239.554  ...                     0          1    2   \n",
       "1     50                 239.554  ...                     1          1    1   \n",
       "2     38                 239.554  ...                     0          1    0   \n",
       "3     39                 239.554  ...                     0          1    2   \n",
       "4     33                 239.554  ...                     0          1    2   \n",
       "..   ...                     ...  ...                   ...        ...  ...   \n",
       "735   33                 264.604  ...                     0          1    2   \n",
       "736   37                 264.604  ...                     0          3    1   \n",
       "737   40                 271.219  ...                     0          1    1   \n",
       "738   39                 271.219  ...                     0          1    2   \n",
       "739   53                 271.219  ...                     0          1    1   \n",
       "\n",
       "     Social drinker  Social smoker  Pet  Weight  Height  Body mass index  \\\n",
       "0                 1              0    1      90     172               30   \n",
       "1                 1              0    0      98     178               31   \n",
       "2                 1              0    0      89     170               31   \n",
       "3                 1              1    0      68     168               24   \n",
       "4                 1              0    1      90     172               30   \n",
       "..              ...            ...  ...     ...     ...              ...   \n",
       "735               1              0    1      90     172               30   \n",
       "736               0              0    1      88     172               29   \n",
       "737               1              0    8      98     170               34   \n",
       "738               1              0    2     100     170               35   \n",
       "739               0              0    1      77     175               25   \n",
       "\n",
       "     Absenteeism time in hours  \n",
       "0                            4  \n",
       "1                            0  \n",
       "2                            2  \n",
       "3                            4  \n",
       "4                            2  \n",
       "..                         ...  \n",
       "735                          8  \n",
       "736                          4  \n",
       "737                          0  \n",
       "738                          0  \n",
       "739                          0  \n",
       "\n",
       "[740 rows x 21 columns]"
      ]
     },
     "execution_count": 5,
     "metadata": {},
     "output_type": "execute_result"
    }
   ],
   "source": [
    "ab"
   ]
  },
  {
   "cell_type": "code",
   "execution_count": 6,
   "id": "6933b052",
   "metadata": {},
   "outputs": [],
   "source": [
    "data = ab"
   ]
  },
  {
   "cell_type": "code",
   "execution_count": 7,
   "id": "624d1ea1",
   "metadata": {},
   "outputs": [],
   "source": [
    "data.rename(columns={'Reason for absence': 'Reason_for_absence'}, inplace=True)"
   ]
  },
  {
   "cell_type": "code",
   "execution_count": 8,
   "id": "8a26767d",
   "metadata": {},
   "outputs": [],
   "source": [
    "data = ab.query('Reason_for_absence == 23')"
   ]
  },
  {
   "cell_type": "code",
   "execution_count": 9,
   "id": "b6dab328",
   "metadata": {},
   "outputs": [],
   "source": [
    "data = data.groupby('Day of the week')['Reason_for_absence'].count()"
   ]
  },
  {
   "cell_type": "code",
   "execution_count": 10,
   "id": "c7077935",
   "metadata": {},
   "outputs": [],
   "source": [
    "data = data.reset_index()"
   ]
  },
  {
   "cell_type": "code",
   "execution_count": 11,
   "id": "6b97158c",
   "metadata": {},
   "outputs": [
    {
     "data": {
      "text/html": [
       "<div>\n",
       "<style scoped>\n",
       "    .dataframe tbody tr th:only-of-type {\n",
       "        vertical-align: middle;\n",
       "    }\n",
       "\n",
       "    .dataframe tbody tr th {\n",
       "        vertical-align: top;\n",
       "    }\n",
       "\n",
       "    .dataframe thead th {\n",
       "        text-align: right;\n",
       "    }\n",
       "</style>\n",
       "<table border=\"1\" class=\"dataframe\">\n",
       "  <thead>\n",
       "    <tr style=\"text-align: right;\">\n",
       "      <th></th>\n",
       "      <th>Day of the week</th>\n",
       "      <th>Reason_for_absence</th>\n",
       "    </tr>\n",
       "  </thead>\n",
       "  <tbody>\n",
       "    <tr>\n",
       "      <th>0</th>\n",
       "      <td>2</td>\n",
       "      <td>22</td>\n",
       "    </tr>\n",
       "    <tr>\n",
       "      <th>1</th>\n",
       "      <td>3</td>\n",
       "      <td>37</td>\n",
       "    </tr>\n",
       "    <tr>\n",
       "      <th>2</th>\n",
       "      <td>4</td>\n",
       "      <td>33</td>\n",
       "    </tr>\n",
       "    <tr>\n",
       "      <th>3</th>\n",
       "      <td>5</td>\n",
       "      <td>30</td>\n",
       "    </tr>\n",
       "    <tr>\n",
       "      <th>4</th>\n",
       "      <td>6</td>\n",
       "      <td>27</td>\n",
       "    </tr>\n",
       "  </tbody>\n",
       "</table>\n",
       "</div>"
      ],
      "text/plain": [
       "   Day of the week  Reason_for_absence\n",
       "0                2                  22\n",
       "1                3                  37\n",
       "2                4                  33\n",
       "3                5                  30\n",
       "4                6                  27"
      ]
     },
     "execution_count": 11,
     "metadata": {},
     "output_type": "execute_result"
    }
   ],
   "source": [
    "data"
   ]
  },
  {
   "cell_type": "code",
   "execution_count": 12,
   "id": "2f1ece33",
   "metadata": {},
   "outputs": [
    {
     "data": {
      "text/plain": [
       "Text(0, 0.5, 'Reason for absence number 23')"
      ]
     },
     "execution_count": 12,
     "metadata": {},
     "output_type": "execute_result"
    },
    {
     "data": {
      "image/png": "[encoded data removed]",
      "text/plain": [
       "<Figure size 432x288 with 1 Axes>"
      ]
     },
     "metadata": {
      "needs_background": "light"
     },
     "output_type": "display_data"
    }
   ],
   "source": [
    "plt.bar(data['Day of the week'], data['Reason_for_absence'])\n",
    "\n",
    "plt.xlabel('Day of absence')\n",
    "plt.ylabel('Reason for absence number 23')"
   ]
  },
  {
   "cell_type": "code",
   "execution_count": 13,
   "id": "6a73517e",
   "metadata": {},
   "outputs": [
    {
     "data": {
      "text/plain": [
       "array([[1.        , 0.11631924],\n",
       "       [0.11631924, 1.        ]])"
      ]
     },
     "execution_count": 13,
     "metadata": {},
     "output_type": "execute_result"
    }
   ],
   "source": [
    "np.corrcoef(ab['Day of the week'],\n",
    "           ab['Reason_for_absence'])"
   ]
  },
  {
   "cell_type": "code",
   "execution_count": 14,
   "id": "eaaccc5c",
   "metadata": {},
   "outputs": [
    {
     "data": {
      "text/plain": [
       "(0.1163192439304276, 0.0015262702957113687)"
      ]
     },
     "execution_count": 14,
     "metadata": {},
     "output_type": "execute_result"
    }
   ],
   "source": [
    "pearsonr(ab['Day of the week'], ab['Reason_for_absence'])"
   ]
  },
  {
   "cell_type": "markdown",
   "id": "da4816dd",
   "metadata": {},
   "source": [
    "It has a positive corrilation but it is a very small number which means the corrilation is not very strong.\n",
    "\n",
    "I would say corrilation is not significant.\n",
    "\n",
    "The realationship between the two shows no linear corrilation but it does seem the later in the week it gets the reason for absence changes. "
   ]
  },
  {
   "cell_type": "code",
   "execution_count": 15,
   "id": "a507709e",
   "metadata": {},
   "outputs": [
    {
     "data": {
      "text/plain": [
       "(-0.0015195444984268044, 0.9670836591482739)"
      ]
     },
     "execution_count": 15,
     "metadata": {},
     "output_type": "execute_result"
    }
   ],
   "source": [
    "pearsonr(ab['Month of absence'], ab['Age'])"
   ]
  },
  {
   "cell_type": "code",
   "execution_count": 16,
   "id": "6881ee6c",
   "metadata": {},
   "outputs": [
    {
     "data": {
      "text/plain": [
       "SpearmanrResult(correlation=0.0016805552597149393, pvalue=0.9635981476773132)"
      ]
     },
     "execution_count": 16,
     "metadata": {},
     "output_type": "execute_result"
    }
   ],
   "source": [
    "spearmanr(ab['Month of absence'], ab['Age'])"
   ]
  },
  {
   "cell_type": "code",
   "execution_count": 17,
   "id": "a54f86ae",
   "metadata": {},
   "outputs": [],
   "source": [
    "ac = ab.groupby('Month of absence')['Age'].value_counts()"
   ]
  },
  {
   "cell_type": "code",
   "execution_count": 39,
   "id": "9dba5949",
   "metadata": {},
   "outputs": [
    {
     "data": {
      "text/plain": [
       "Month of absence  Age\n",
       "0                 39      1\n",
       "                  40      1\n",
       "                  53      1\n",
       "1                 37     14\n",
       "                  28      7\n",
       "                         ..\n",
       "12                29      1\n",
       "                  31      1\n",
       "                  33      1\n",
       "                  34      1\n",
       "                  47      1\n",
       "Name: Age, Length: 184, dtype: int64"
      ]
     },
     "execution_count": 39,
     "metadata": {},
     "output_type": "execute_result"
    }
   ],
   "source": [
    "ac"
   ]
  },
  {
   "cell_type": "code",
   "execution_count": null,
   "id": "5cfcbe32",
   "metadata": {},
   "outputs": [],
   "source": []
  },
  {
   "cell_type": "code",
   "execution_count": 19,
   "id": "e68a3a23",
   "metadata": {},
   "outputs": [
    {
     "data": {
      "text/plain": [
       "Age  ID  Reason_for_absence  Month of absence  Day of the week  Seasons  Transportation expense  Distance from Residence to Work  Service time  Work load Average/day   Hit target  Disciplinary failure  Education  Son  Social drinker  Social smoker  Pet  Weight  Height  Body mass index  Absenteeism time in hours\n",
       "27   27  23                  1                 5                2        184                     42                               7             308.593                 95          0                     1          0    0               0              0    58      167     21               2                            2\n",
       "         6                   8                 4                1        184                     42                               7             265.615                 94          0                     1          0    0               0              0    58      167     21               8                            1\n",
       "         23                  2                 3                2        184                     42                               7             302.585                 99          0                     1          0    0               0              0    58      167     21               8                            1\n",
       "                                               6                2        184                     42                               7             302.585                 99          0                     1          0    0               0              0    58      167     21               1                            1\n",
       "                             9                 3                1        184                     42                               7             241.476                 92          0                     1          0    0               0              0    58      167     21               2                            1\n",
       "                                                                                                                                                                                                                                                                                                                           ..\n",
       "58   9   12                  3                 3                2        228                     14                               16            222.196                 99          0                     1          2    0               0              1    65      172     22               112                          1\n",
       "         18                  5                 4                3        228                     14                               16            246.074                 99          0                     1          2    0               0              1    65      172     22               8                            1\n",
       "                             8                 3                1        228                     14                               16            265.615                 94          0                     1          2    0               0              1    65      172     22               8                            1\n",
       "         25                  3                 3                2        228                     14                               16            222.196                 99          0                     1          2    0               0              1    65      172     22               3                            1\n",
       "                                               4                2        228                     14                               16            222.196                 99          0                     1          2    0               0              1    65      172     22               2                            1\n",
       "Length: 706, dtype: int64"
      ]
     },
     "execution_count": 19,
     "metadata": {},
     "output_type": "execute_result"
    }
   ],
   "source": [
    "ab.groupby('Age').value_counts()"
   ]
  },
  {
   "cell_type": "code",
   "execution_count": 20,
   "id": "307e936e",
   "metadata": {},
   "outputs": [
    {
     "data": {
      "text/plain": [
       "Month of absence  Age\n",
       "0                 39      1\n",
       "                  40      1\n",
       "                  53      1\n",
       "1                 37     14\n",
       "                  28      7\n",
       "                         ..\n",
       "12                29      1\n",
       "                  31      1\n",
       "                  33      1\n",
       "                  34      1\n",
       "                  47      1\n",
       "Name: Age, Length: 184, dtype: int64"
      ]
     },
     "execution_count": 20,
     "metadata": {},
     "output_type": "execute_result"
    }
   ],
   "source": [
    "ab.groupby('Month of absence')['Age'].value_counts()"
   ]
  },
  {
   "cell_type": "code",
   "execution_count": 38,
   "id": "18c6f75a",
   "metadata": {},
   "outputs": [
    {
     "data": {
      "image/png": "[encoded data removed]",
      "text/plain": [
       "<Figure size 432x288 with 1 Axes>"
      ]
     },
     "metadata": {
      "needs_background": "light"
     },
     "output_type": "display_data"
    }
   ],
   "source": [
    "ax = sns.lineplot(data= ac, x='Month of absence', y='Age')"
   ]
  },
  {
   "cell_type": "code",
   "execution_count": 22,
   "id": "64d64472",
   "metadata": {},
   "outputs": [
    {
     "data": {
      "text/plain": [
       "<AxesSubplot:xlabel='Month of absence'>"
      ]
     },
     "execution_count": 22,
     "metadata": {},
     "output_type": "execute_result"
    },
    {
     "data": {
      "image/png": "[encoded data removed]",
      "text/plain": [
       "<Figure size 432x288 with 1 Axes>"
      ]
     },
     "metadata": {
      "needs_background": "light"
     },
     "output_type": "display_data"
    }
   ],
   "source": [
    "ab.plot.line(x='Month of absence', y='Age')"
   ]
  },
  {
   "cell_type": "markdown",
   "id": "7ccccaf7",
   "metadata": {},
   "source": [
    "This corrilation is weak\n",
    "this corrilation is not Stastically significant do to its high p value\n",
    "I would explain that there is no significants between the month some took off and there age. "
   ]
  },
  {
   "cell_type": "code",
   "execution_count": 23,
   "id": "e302d5f4",
   "metadata": {},
   "outputs": [
    {
     "data": {
      "text/plain": [
       "SpearmanrResult(correlation=-0.11472538854357511, pvalue=0.001772504612734226)"
      ]
     },
     "execution_count": 23,
     "metadata": {},
     "output_type": "execute_result"
    }
   ],
   "source": [
    "spearmanr(ab['Hit target'], ab['Disciplinary failure'])"
   ]
  },
  {
   "cell_type": "code",
   "execution_count": 24,
   "id": "2ba805d5",
   "metadata": {},
   "outputs": [
    {
     "data": {
      "image/png": "[encoded data removed]",
      "text/plain": [
       "<Figure size 432x288 with 1 Axes>"
      ]
     },
     "metadata": {
      "needs_background": "light"
     },
     "output_type": "display_data"
    }
   ],
   "source": [
    "plt.scatter(ab['Hit target'], ab['Disciplinary failure'])\n",
    "\n",
    "plt.show()"
   ]
  },
  {
   "cell_type": "markdown",
   "id": "2a8490c7",
   "metadata": {},
   "source": [
    "This relationship is a negative weak correlation\n",
    "The correlation is not strong\n",
    "The realation ship between the two is nothing there is no correlation between performance and being disciplined. I would explain that failure to disipline someone does not affect Hit target in anyway. "
   ]
  },
  {
   "cell_type": "code",
   "execution_count": 25,
   "id": "50567a2d",
   "metadata": {},
   "outputs": [
    {
     "data": {
      "text/plain": [
       "(0.0484251154243409, 0.18822416547756862)"
      ]
     },
     "execution_count": 25,
     "metadata": {},
     "output_type": "execute_result"
    }
   ],
   "source": [
    "pearsonr(ab['Service time'], ab['Reason_for_absence'])"
   ]
  },
  {
   "cell_type": "markdown",
   "id": "ea8ef0c4",
   "metadata": {},
   "source": [
    "The correlation is not Strong\n",
    "The correlation is not statistically significant\n",
    "I would explain that it doesn't matter how long a employee has worked there reasons for absence stay the same."
   ]
  },
  {
   "cell_type": "code",
   "execution_count": 26,
   "id": "79a3d4d9",
   "metadata": {},
   "outputs": [
    {
     "data": {
      "text/plain": [
       "(0.26218311063190763, 4.2533009832573875e-13)"
      ]
     },
     "execution_count": 26,
     "metadata": {},
     "output_type": "execute_result"
    }
   ],
   "source": [
    "pearsonr(ab['Transportation expense'], ab['Distance from Residence to Work'])"
   ]
  },
  {
   "cell_type": "code",
   "execution_count": 27,
   "id": "06ca0264",
   "metadata": {},
   "outputs": [
    {
     "data": {
      "image/png": "[encoded data removed]",
      "text/plain": [
       "<Figure size 432x288 with 1 Axes>"
      ]
     },
     "metadata": {
      "needs_background": "light"
     },
     "output_type": "display_data"
    }
   ],
   "source": [
    "plt.scatter(ab['Transportation expense'], ab['Distance from Residence to Work'])\n",
    "plt.show()"
   ]
  },
  {
   "cell_type": "markdown",
   "id": "b2b68426",
   "metadata": {},
   "source": [
    "The correlation is a slight positive one\n",
    "The correlation is significant \n",
    "The relationship is that the more expensive you transportation cost the further away from work you are. "
   ]
  },
  {
   "cell_type": "code",
   "execution_count": 28,
   "id": "da29f404",
   "metadata": {},
   "outputs": [
    {
     "data": {
      "text/plain": [
       "SpearmanrResult(correlation=-0.27576995864941006, pvalue=2.2121000884657082e-14)"
      ]
     },
     "execution_count": 28,
     "metadata": {},
     "output_type": "execute_result"
    }
   ],
   "source": [
    "spearmanr(ab['Age'], ab['Pet'])"
   ]
  },
  {
   "cell_type": "code",
   "execution_count": 29,
   "id": "bfa17a25",
   "metadata": {},
   "outputs": [
    {
     "data": {
      "text/plain": [
       "<matplotlib.collections.PathCollection at 0x7fd820999ca0>"
      ]
     },
     "execution_count": 29,
     "metadata": {},
     "output_type": "execute_result"
    },
    {
     "data": {
      "image/png": "[encoded data removed]",
      "text/plain": [
       "<Figure size 432x288 with 1 Axes>"
      ]
     },
     "metadata": {
      "needs_background": "light"
     },
     "output_type": "display_data"
    }
   ],
   "source": [
    "plt.scatter(ab['Age'], ab['Pet'])"
   ]
  },
  {
   "cell_type": "markdown",
   "id": "27484cb0",
   "metadata": {},
   "source": [
    "There is a negative correlation \n",
    "The correlation is significant \n",
    "The realtion ship seems to be the younger you are the more likley you are to own multiple pets "
   ]
  },
  {
   "cell_type": "code",
   "execution_count": 30,
   "id": "c1834358",
   "metadata": {},
   "outputs": [
    {
     "data": {
      "text/plain": [
       "(-0.12436061376972074, 0.0006978426162533758)"
      ]
     },
     "execution_count": 30,
     "metadata": {},
     "output_type": "execute_result"
    }
   ],
   "source": [
    "pearsonr(ab['Absenteeism time in hours'], ab['Day of the week'])"
   ]
  },
  {
   "cell_type": "markdown",
   "id": "22ba01e8",
   "metadata": {},
   "source": [
    "There is a small negative relationship\n",
    "The correrilation is significant \n",
    "The relationship between the two is people take more hours off later in the week. "
   ]
  },
  {
   "cell_type": "code",
   "execution_count": 31,
   "id": "f9af7164",
   "metadata": {},
   "outputs": [
    {
     "data": {
      "text/plain": [
       "SpearmanrResult(correlation=0.00976773580605338, pvalue=0.7908027956418036)"
      ]
     },
     "execution_count": 31,
     "metadata": {},
     "output_type": "execute_result"
    }
   ],
   "source": [
    "spearmanr(ab['Month of absence'],ab['Absenteeism time in hours'])"
   ]
  },
  {
   "cell_type": "code",
   "execution_count": 32,
   "id": "f518fd93",
   "metadata": {},
   "outputs": [
    {
     "data": {
      "text/plain": [
       "<matplotlib.collections.PathCollection at 0x7fd844651c70>"
      ]
     },
     "execution_count": 32,
     "metadata": {},
     "output_type": "execute_result"
    },
    {
     "data": {
      "image/png": "[encoded data removed]",
      "text/plain": [
       "<Figure size 432x288 with 1 Axes>"
      ]
     },
     "metadata": {
      "needs_background": "light"
     },
     "output_type": "display_data"
    }
   ],
   "source": [
    "plt.scatter(ab['Month of absence'], ab['Absenteeism time in hours'])"
   ]
  },
  {
   "cell_type": "markdown",
   "id": "ee2abb28",
   "metadata": {},
   "source": [
    "The Correlation is weak \n",
    "The Correlation is statistaly insignificant \n",
    "The relationship is employees take the same amount of time off through out the year."
   ]
  },
  {
   "cell_type": "code",
   "execution_count": 33,
   "id": "bf70817c",
   "metadata": {},
   "outputs": [
    {
     "data": {
      "text/plain": [
       "(-0.12104877689386093, 0.0009687237227505967)"
      ]
     },
     "execution_count": 33,
     "metadata": {},
     "output_type": "execute_result"
    }
   ],
   "source": [
    "pearsonr(ab['Body mass index'], ab['Height'])"
   ]
  },
  {
   "cell_type": "code",
   "execution_count": 34,
   "id": "a558a936",
   "metadata": {},
   "outputs": [
    {
     "data": {
      "text/plain": [
       "<matplotlib.collections.PathCollection at 0x7fd8447eae20>"
      ]
     },
     "execution_count": 34,
     "metadata": {},
     "output_type": "execute_result"
    },
    {
     "data": {
      "image/png": "[encoded data removed]",
      "text/plain": [
       "<Figure size 432x288 with 1 Axes>"
      ]
     },
     "metadata": {
      "needs_background": "light"
     },
     "output_type": "display_data"
    }
   ],
   "source": [
    "plt.scatter(ab['Body mass index'], ab['Height'])"
   ]
  },
  {
   "cell_type": "markdown",
   "id": "e696a6ca",
   "metadata": {},
   "source": [
    "The Correlation is a small negative \n",
    "The correlation is statistically significant \n",
    "The relationship shows that the Larger your BMI the shorter you are"
   ]
  },
  {
   "cell_type": "code",
   "execution_count": 35,
   "id": "0889a109",
   "metadata": {},
   "outputs": [
    {
     "data": {
      "text/plain": [
       "SpearmanrResult(correlation=-0.0038737178518088527, pvalue=0.9162180838872527)"
      ]
     },
     "execution_count": 35,
     "metadata": {},
     "output_type": "execute_result"
    }
   ],
   "source": [
    "spearmanr(ab['Pet'], ab['Disciplinary failure'])"
   ]
  },
  {
   "cell_type": "markdown",
   "id": "b1026015",
   "metadata": {},
   "source": [
    "The Correlation is weak\n",
    "The Correlation statistic is insignificant \n",
    "There is no relationship, The number of pets owned does not affect disiplinary failure. "
   ]
  },
  {
   "cell_type": "code",
   "execution_count": null,
   "id": "fbdbb4bf",
   "metadata": {},
   "outputs": [],
   "source": []
  }
 ],
 "metadata": {
  "kernelspec": {
   "display_name": "Python 3 (ipykernel)",
   "language": "python",
   "name": "python3"
  },
  "language_info": {
   "codemirror_mode": {
    "name": "ipython",
    "version": 3
   },
   "file_extension": ".py",
   "mimetype": "text/x-python",
   "name": "python",
   "nbconvert_exporter": "python",
   "pygments_lexer": "ipython3",
   "version": "3.9.12"
  }
 },
 "nbformat": 4,
 "nbformat_minor": 5
}
